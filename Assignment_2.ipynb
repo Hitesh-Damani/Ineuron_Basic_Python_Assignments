{
 "cells": [
  {
   "cell_type": "raw",
   "metadata": {},
   "source": [
    "1.What are the two values of the Boolean data type? How do you write them?"
   ]
  },
  {
   "cell_type": "code",
   "execution_count": null,
   "metadata": {},
   "outputs": [],
   "source": [
    "# Answer 1.\n",
    "Two values of Boolean data type are True , False."
   ]
  },
  {
   "cell_type": "markdown",
   "metadata": {},
   "source": [
    "2.What are the three different types of Boolean operators?"
   ]
  },
  {
   "cell_type": "code",
   "execution_count": null,
   "metadata": {},
   "outputs": [],
   "source": [
    "# Answer 2.\n",
    "AND, OR, NOT or AND NOT"
   ]
  },
  {
   "cell_type": "markdown",
   "metadata": {},
   "source": [
    "3.Make a list of each Boolean operator's truth tables (i.e. every possible combination of Boolean values for the operator and what it evaluate )."
   ]
  },
  {
   "cell_type": "code",
   "execution_count": null,
   "metadata": {},
   "outputs": [],
   "source": [
    "# Answer 3.\n",
    "### And Truth Table\n",
    "x     and  y    Returns\n",
    "True  and True  True\n",
    "True  and False False\n",
    "False and True  False\n",
    "False and False False\n",
    "\n",
    "### OR Truth Table\n",
    "x     and  y    Returns\n",
    "True  and True  True\n",
    "True  and False True\n",
    "False and True  True\n",
    "False and False False\n",
    "\n",
    "### Not Truth Table\n",
    "not    x    Returns\n",
    "not  True   False\n",
    "not  False  True"
   ]
  },
  {
   "cell_type": "markdown",
   "metadata": {},
   "source": [
    "4.What are the values of the following expressions?\n",
    "\n",
    "(5 > 4) and (3 == 5) \n",
    "\n",
    "not (5 > 4)  \n",
    "\n",
    "(5 > 4) or (3 == 5)\n",
    "\n",
    "not ((5 > 4) or (3 == 5)) \n",
    "\n",
    "(True and True) and (True == False) \n",
    "\n",
    "(not False) or (not True)\n"
   ]
  },
  {
   "cell_type": "code",
   "execution_count": 15,
   "metadata": {},
   "outputs": [
    {
     "data": {
      "text/plain": [
       "True"
      ]
     },
     "execution_count": 15,
     "metadata": {},
     "output_type": "execute_result"
    }
   ],
   "source": [
    "# Answer 4.\n",
    "\n",
    "(5 > 4) and (3 == 5) # False\n",
    "\n",
    "not (5 > 4)  # False\n",
    "\n",
    "(5 > 4) or (3 == 5) # True\n",
    "\n",
    "not ((5 > 4) or (3 == 5)) # False\n",
    "\n",
    "(True and True) and (True == False) # False\n",
    "\n",
    "(not False) or (not True) # True"
   ]
  },
  {
   "cell_type": "markdown",
   "metadata": {},
   "source": [
    "5. What are the six comparison operators?"
   ]
  },
  {
   "cell_type": "code",
   "execution_count": null,
   "metadata": {},
   "outputs": [],
   "source": [
    "# Answer 5.\n",
    "\n",
    "Comparison Operator    Meaning\n",
    "==                     Equal to\n",
    "!=                     Not equal to\n",
    "<                      Less than\n",
    ">                      Greater than\n",
    "<=                     Less than or equal to\n",
    ">=                     Greater than or equal to"
   ]
  },
  {
   "cell_type": "markdown",
   "metadata": {},
   "source": [
    "6. How do you tell the difference between the equal to and assignment operators?Describe a condition and when you would use one."
   ]
  },
  {
   "cell_type": "code",
   "execution_count": null,
   "metadata": {},
   "outputs": [],
   "source": [
    "# Answer 6. \n",
    "In python Equal to operator is (==) which is used to check the equality of values whereas assignment operator (=) is used \n",
    "to assign result of expression or values to any variable.\n",
    "\n",
    "For Eg:- \n",
    "1. a  = 45  { Here  =  is assignment operator which assigns value of a as 45}\n",
    "2. if a == 45:\n",
    "        True\n",
    "   else: False  { Here a == 45 checks whether value of a is 45 or not.}"
   ]
  },
  {
   "cell_type": "code",
   "execution_count": null,
   "metadata": {},
   "outputs": [],
   "source": [
    "7. Identify the three blocks in this code:\n",
    "    \n",
    "spam = 0\n",
    "\n",
    "if spam == 10:\n",
    "\n",
    "    print('eggs')\n",
    "\n",
    "    if spam > 5:\n",
    "\n",
    "        print('bacon')\n",
    "\n",
    "        else:\n",
    "\n",
    "            print('ham')\n",
    "\n",
    "            print('spam')\n",
    "\n",
    "            print('spam')\n"
   ]
  },
  {
   "cell_type": "code",
   "execution_count": null,
   "metadata": {},
   "outputs": [],
   "source": [
    "# Answer 7.\n",
    "spam = 0\n",
    "\n",
    "## Block 1\n",
    "if spam == 10:\n",
    "    print('eggs')\n",
    "## Block 2\n",
    "if spam > 5:\n",
    "    print('bacon')\n",
    "else:\n",
    "    print('ham')\n",
    "## Block 3\n",
    "print('spam')\n",
    "print('spam')"
   ]
  },
  {
   "cell_type": "markdown",
   "metadata": {},
   "source": [
    "8.Write code that prints Hello if 1 is stored in spam, prints Howdy if 2 is stored in spam, and prints Greetings! if anything else is stored in spam."
   ]
  },
  {
   "cell_type": "code",
   "execution_count": 21,
   "metadata": {},
   "outputs": [
    {
     "name": "stdout",
     "output_type": "stream",
     "text": [
      "Enter any number:1\n",
      "Hello\n"
     ]
    }
   ],
   "source": [
    "# Answer 8.\n",
    "a = int(input('Enter any number:'))\n",
    "spam =a\n",
    "\n",
    "if spam == 1:\n",
    "    print('Hello')\n",
    "elif spam == 2:\n",
    "    print('Howdy')\n",
    "else:\n",
    "    print('Greetings')"
   ]
  },
  {
   "cell_type": "markdown",
   "metadata": {},
   "source": [
    "9.If your programme is stuck in an endless loop, what keys you’ll press?"
   ]
  },
  {
   "cell_type": "raw",
   "metadata": {},
   "source": [
    "# Answer 9. \n",
    "We can press CTRL+C or else can force stop(KeyboardInterrupt) by clicking on Square Symbol available in Jupyter notebook."
   ]
  },
  {
   "cell_type": "markdown",
   "metadata": {},
   "source": [
    "10.How can you tell the difference between break and continue?"
   ]
  },
  {
   "cell_type": "code",
   "execution_count": null,
   "metadata": {},
   "outputs": [],
   "source": [
    "# Answer 10.\n",
    "\n",
    "The main difference between break and continue is that break is used for immediate termination of loop. On the other hand,\n",
    "'continue' terminate the current iteration and resumes the control to the next iteration of the loop"
   ]
  },
  {
   "cell_type": "markdown",
   "metadata": {},
   "source": [
    "11.In a for loop, what is the difference between range(10), range(0, 10), and range(0, 10, 1)?"
   ]
  },
  {
   "cell_type": "code",
   "execution_count": null,
   "metadata": {},
   "outputs": [],
   "source": [
    "# Answer 11.\n",
    "\n",
    "Output of all three will be same. The only difference is in the form of writing the code.\n",
    "Usually syntax of range function is range(start, stop, step size) if we are not providing starting value and step size,\n",
    "it will take starting value as 0 and step size will be 1 by default."
   ]
  },
  {
   "cell_type": "markdown",
   "metadata": {},
   "source": [
    "12.Write a short program that prints the numbers 1 to 10 using a for loop. Then write an equivalent program that prints the numbers 1 to 10 using a while loop."
   ]
  },
  {
   "cell_type": "code",
   "execution_count": 31,
   "metadata": {},
   "outputs": [
    {
     "name": "stdout",
     "output_type": "stream",
     "text": [
      "1\n",
      "2\n",
      "3\n",
      "4\n",
      "5\n",
      "6\n",
      "7\n",
      "8\n",
      "9\n",
      "10\n"
     ]
    }
   ],
   "source": [
    "# Answer 12.\n",
    "### for Loop\n",
    "for i in range(1,11):\n",
    "    print(i)\n",
    "### while Loop  \n",
    "a = 1\n",
    "while a<=10:\n",
    "    print(a)\n",
    "    a+=1"
   ]
  },
  {
   "cell_type": "markdown",
   "metadata": {},
   "source": [
    "13.If you had a function named bacon() inside a module named spam, how would you call it after importing spam?"
   ]
  },
  {
   "cell_type": "code",
   "execution_count": null,
   "metadata": {},
   "outputs": [],
   "source": [
    "# Answer 13.\n",
    "from spam import bacon"
   ]
  },
  {
   "cell_type": "code",
   "execution_count": null,
   "metadata": {},
   "outputs": [],
   "source": [
    "spam.bacon()"
   ]
  },
  {
   "cell_type": "code",
   "execution_count": null,
   "metadata": {},
   "outputs": [],
   "source": []
  }
 ],
 "metadata": {
  "kernelspec": {
   "display_name": "Python 3",
   "language": "python",
   "name": "python3"
  },
  "language_info": {
   "codemirror_mode": {
    "name": "ipython",
    "version": 3
   },
   "file_extension": ".py",
   "mimetype": "text/x-python",
   "name": "python",
   "nbconvert_exporter": "python",
   "pygments_lexer": "ipython3",
   "version": "3.7.6"
  }
 },
 "nbformat": 4,
 "nbformat_minor": 4
}
