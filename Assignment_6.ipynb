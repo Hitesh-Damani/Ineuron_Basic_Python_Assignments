{
 "cells": [
  {
   "cell_type": "markdown",
   "metadata": {},
   "source": [
    "1. What are escape characters, and how do you use them?"
   ]
  },
  {
   "cell_type": "raw",
   "metadata": {},
   "source": [
    "Character combinations consisting of a backslash (\\) followed by a letter or by a combination of digits are called \"escape sequences.\" To represent a newline character, single quotation mark, or certain other characters in a character constant, you must use escape sequences"
   ]
  },
  {
   "cell_type": "code",
   "execution_count": 3,
   "metadata": {},
   "outputs": [
    {
     "name": "stdout",
     "output_type": "stream",
     "text": [
      "Hello \n",
      " World\n"
     ]
    }
   ],
   "source": [
    "# Eg:-\n",
    "\n",
    "print(\"Hello \\n World\")"
   ]
  },
  {
   "cell_type": "markdown",
   "metadata": {},
   "source": [
    "2. What do the escape characters n and t stand for?"
   ]
  },
  {
   "cell_type": "raw",
   "metadata": {},
   "source": [
    "Escape characters n stands for new line while t stand for tab."
   ]
  },
  {
   "cell_type": "code",
   "execution_count": 6,
   "metadata": {},
   "outputs": [
    {
     "name": "stdout",
     "output_type": "stream",
     "text": [
      "Hello \n",
      " World\n",
      "----------------\n",
      "Hello \t World\n"
     ]
    }
   ],
   "source": [
    "# Eg:-\n",
    "\n",
    "print(\"Hello \\n World\")\n",
    "print(\"----------------\")\n",
    "print(\"Hello \\t World\")"
   ]
  },
  {
   "cell_type": "markdown",
   "metadata": {},
   "source": [
    "3. What is the way to include backslash characters in a string?"
   ]
  },
  {
   "cell_type": "raw",
   "metadata": {},
   "source": [
    "To include a backslash character itself, we need to include two backslashes."
   ]
  },
  {
   "cell_type": "code",
   "execution_count": 17,
   "metadata": {},
   "outputs": [
    {
     "data": {
      "text/plain": [
       "'\\\\apple'"
      ]
     },
     "execution_count": 17,
     "metadata": {},
     "output_type": "execute_result"
    }
   ],
   "source": [
    "#Eg:-\n",
    "a = \"\\\\apple\"\n",
    "a"
   ]
  },
  {
   "cell_type": "markdown",
   "metadata": {},
   "source": [
    "4. The string \"Howl's Moving Castle\" is a correct value. Why isn't the single quote character in the word Howl's not escaped a problem?"
   ]
  },
  {
   "cell_type": "raw",
   "metadata": {},
   "source": [
    "Because the string is enclosed in a Double quotes. And if its enclosed in a double quotes the python compiler interprets its differently and it won't throw any exception"
   ]
  },
  {
   "cell_type": "markdown",
   "metadata": {},
   "source": [
    "6. What are the values of the given expressions?\n",
    "'Hello, world!'[1]\n",
    "'Hello, world!'[0:5]\n",
    "'Hello, world!'[:5]\n",
    "'Hello, world!'[3:]\n"
   ]
  },
  {
   "cell_type": "code",
   "execution_count": 24,
   "metadata": {},
   "outputs": [
    {
     "name": "stdout",
     "output_type": "stream",
     "text": [
      "e\n",
      "Hello\n",
      "Hello\n",
      "lo, world!\n"
     ]
    }
   ],
   "source": [
    "print('Hello, world!'[1])\n",
    "print('Hello, world!'[0:5])\n",
    "print('Hello, world!'[:5])\n",
    "print('Hello, world!'[3:])"
   ]
  },
  {
   "cell_type": "markdown",
   "metadata": {},
   "source": [
    "7. What are the values of the following expressions?\n",
    "'Hello'.upper()\n",
    "'Hello'.upper().isupper()\n",
    "'Hello'.upper().lower()\n"
   ]
  },
  {
   "cell_type": "code",
   "execution_count": 25,
   "metadata": {},
   "outputs": [
    {
     "name": "stdout",
     "output_type": "stream",
     "text": [
      "HELLO\n",
      "True\n",
      "hello\n"
     ]
    }
   ],
   "source": [
    "print('Hello'.upper())\n",
    "print('Hello'.upper().isupper())\n",
    "print('Hello'.upper().lower())"
   ]
  },
  {
   "cell_type": "markdown",
   "metadata": {},
   "source": [
    "8. What are the values of the following expressions?\n",
    "'Remember, remember, the fifth of July.'.split()\n",
    "'-'.join('There can only one.'.split())\n"
   ]
  },
  {
   "cell_type": "code",
   "execution_count": 27,
   "metadata": {},
   "outputs": [
    {
     "name": "stdout",
     "output_type": "stream",
     "text": [
      "['Remember,', 'remember,', 'the', 'fifth', 'of', 'July.']\n",
      "There-can-only-one.\n"
     ]
    }
   ],
   "source": [
    "print('Remember, remember, the fifth of July.'.split())\n",
    "print('-'.join('There can only one.'.split()))"
   ]
  },
  {
   "cell_type": "markdown",
   "metadata": {},
   "source": [
    "9. What are the methods for right-justifying, left-justifying, and centering a string?"
   ]
  },
  {
   "cell_type": "raw",
   "metadata": {},
   "source": [
    "centering -> center( len, fillchr )\n",
    "\n",
    "left-justifying -> ljust( len, fillchr )\n",
    "\n",
    "right-justifying -> rjust( len, fillchr )"
   ]
  },
  {
   "cell_type": "code",
   "execution_count": 39,
   "metadata": {},
   "outputs": [
    {
     "name": "stdout",
     "output_type": "stream",
     "text": [
      "The original string is : \n",
      " I love Data Science \n",
      "\n",
      "The center aligned string is : \n",
      "          I love Data Science            \n",
      "\n",
      "Center aligned string with fillchr: \n",
      "----------I love Data Science-----------\n",
      "----------------------------------------------------------------------------\n",
      "\n",
      "The right aligned string is : \n",
      "                     I love Data Science \n",
      "\n",
      "right aligned string with fillchr: \n",
      "---------------------I love Data Science\n",
      "----------------------------------------------------------------------------\n",
      "\n",
      "The left aligned string is : \n",
      "I love Data Science                      \n",
      "\n",
      "left aligned string with fillchr: \n",
      "I love Data Science---------------------\n"
     ]
    }
   ],
   "source": [
    "# Eg:-\n",
    "\n",
    "str = \"I love Data Science\"\n",
    "  \n",
    "# Printing the original string\n",
    "print (\"The original string is : \\n\", str, \"\\n\")\n",
    "  \n",
    "# Printing the center aligned string \n",
    "print (\"The center aligned string is : \")\n",
    "print (str.center(40), \"\\n\")\n",
    "  \n",
    "# Printing the center aligned \n",
    "# string with fillchr\n",
    "print (\"Center aligned string with fillchr: \")\n",
    "print (str.center(40, '-'))\n",
    "\n",
    "print(\"----------------------------------------------------------------------------\\n\")\n",
    "\n",
    "# Printing the right aligned string \n",
    "print (\"The right aligned string is : \")\n",
    "print (str.rjust(40), \"\\n\")\n",
    "  \n",
    "# Printing the right aligned \n",
    "# string with fillchr\n",
    "print (\"right aligned string with fillchr: \")\n",
    "print (str.rjust(40, '-'))\n",
    "\n",
    "print(\"----------------------------------------------------------------------------\\n\")\n",
    "\n",
    "# Printing the left aligned string \n",
    "print (\"The left aligned string is : \")\n",
    "print (str.ljust(40), \"\\n\")\n",
    "  \n",
    "# Printing the left aligned \n",
    "# string with fillchr\n",
    "print (\"left aligned string with fillchr: \")\n",
    "print (str.ljust(40, '-'))"
   ]
  },
  {
   "cell_type": "markdown",
   "metadata": {},
   "source": [
    "10. What is the best way to remove whitespace characters from the start or end?"
   ]
  },
  {
   "cell_type": "raw",
   "metadata": {},
   "source": [
    "strip, lstrip and rstrip are the inbuilt methods to remove whitespaces from start and end"
   ]
  },
  {
   "cell_type": "code",
   "execution_count": 41,
   "metadata": {},
   "outputs": [
    {
     "name": "stdout",
     "output_type": "stream",
     "text": [
      "Original String:       My name is Hitesh, Name of org is ineuron    \n",
      "-------------------------------\n",
      "\n",
      "Revome all the spaces:  My name is Hitesh, Name of org is ineuron\n",
      "-------------------------------\n",
      "\n",
      "Revome left spaces:  My name is Hitesh, Name of org is ineuron    \n",
      "-------------------------------\n",
      "\n",
      "Revome right spaces:       My name is Hitesh, Name of org is ineuron\n"
     ]
    }
   ],
   "source": [
    "#Eg:-\n",
    "\n",
    "a = '     My name is Hitesh, Name of org is ineuron    '\n",
    "print(\"Original String: \",a)\n",
    "\n",
    "print(\"-------------------------------\\n\")\n",
    "\n",
    "print(\"Revome all the spaces: \",a.strip())\n",
    "\n",
    "print(\"-------------------------------\\n\")\n",
    "\n",
    "print(\"Revome left spaces: \",a.lstrip())\n",
    "\n",
    "print(\"-------------------------------\\n\")\n",
    "\n",
    "print(\"Revome right spaces: \",a.rstrip())\n",
    "\n"
   ]
  },
  {
   "cell_type": "code",
   "execution_count": null,
   "metadata": {},
   "outputs": [],
   "source": []
  }
 ],
 "metadata": {
  "kernelspec": {
   "display_name": "Python 3",
   "language": "python",
   "name": "python3"
  },
  "language_info": {
   "codemirror_mode": {
    "name": "ipython",
    "version": 3
   },
   "file_extension": ".py",
   "mimetype": "text/x-python",
   "name": "python",
   "nbconvert_exporter": "python",
   "pygments_lexer": "ipython3",
   "version": "3.7.6"
  }
 },
 "nbformat": 4,
 "nbformat_minor": 4
}
