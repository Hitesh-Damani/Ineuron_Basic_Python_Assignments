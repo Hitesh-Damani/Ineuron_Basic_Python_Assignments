{
 "cells": [
  {
   "cell_type": "markdown",
   "metadata": {},
   "source": [
    "1.In the below elements which of them are values or an expression? eg:- values can be integer or string and expressions will be mathematical operators.\n",
    "\n",
    "*\n",
    "\n",
    "'hello'\n",
    "\n",
    "-87.8\n",
    "\n",
    "-\n",
    "\n",
    "/ \n",
    "\n",
    "+\n",
    "\n",
    "6 \n"
   ]
  },
  {
   "cell_type": "code",
   "execution_count": null,
   "metadata": {},
   "outputs": [],
   "source": [
    "#Answer 1.\n",
    "\n",
    "Values:'hello' , -87.8 , 6\n",
    "expressions: * , - , / , + , 'hello' , -87.8 , 6"
   ]
  },
  {
   "cell_type": "markdown",
   "metadata": {},
   "source": [
    "2. What is the difference between string and variable?"
   ]
  },
  {
   "cell_type": "code",
   "execution_count": null,
   "metadata": {},
   "outputs": [],
   "source": [
    "#Answer 2.\n",
    "\n",
    "A Variable is something to which we can store information whereas string is a type of info. we would store in Variable.\n",
    "String always enclosed with either single quote ' ' or \" \"\n",
    "\n",
    "For Eg:- X = 'hello' \n",
    "Here x is variable as it stores 'hello' and hello is string here. "
   ]
  },
  {
   "cell_type": "markdown",
   "metadata": {},
   "source": [
    "3. Describe three different data types."
   ]
  },
  {
   "cell_type": "code",
   "execution_count": null,
   "metadata": {},
   "outputs": [],
   "source": [
    "# Answer 3.\n",
    "\n",
    "String: A string, is a data type that is used to classify text. Eg:- Hello world , Hitesh\n",
    "Integer:An integer is a data type used to classify whole numbers. Eg:- 7, -12, 999\n",
    "Boolean:It represents logical values. Eg:- True , False"
   ]
  },
  {
   "cell_type": "markdown",
   "metadata": {},
   "source": [
    "4. What is an expression made up of? What do all expressions do?"
   ]
  },
  {
   "cell_type": "code",
   "execution_count": null,
   "metadata": {},
   "outputs": [],
   "source": [
    "# Answer 4.\n",
    "\n",
    "A “expression” is a combination of values and functions that are combined and interpreted by the compiler to create a new value\n",
    "Eg:- print(1+1) will gives us the result as 2. Here 1+1 is an expression"
   ]
  },
  {
   "cell_type": "markdown",
   "metadata": {},
   "source": [
    "5. This assignment statements, like spam = 10. What is the difference between an expression and a statement?"
   ]
  },
  {
   "cell_type": "code",
   "execution_count": null,
   "metadata": {},
   "outputs": [],
   "source": [
    "# Answer 5.\n",
    "\n",
    "A statement is a complete line of code that performs some action, \n",
    "while an expression is any section of the code that evaluates to a value.\n",
    "\n",
    "For Eg:-\n",
    "A = 2 + 2 \n",
    "B = 3 * 7 \n",
    "C = 1 + 2 + 3 * (8 ** 9) - sqrt(4.0) \n",
    "D = min(2, 22) \n",
    "E = max(3, 94) \n",
    "\n",
    "All the above can be printed or assigned to a variable\n",
    "Whereas \n",
    "\n",
    "if CONDITION: \n",
    "elif CONDITION: \n",
    "else: \n",
    "for VARIABLE in SEQUENCE: \n",
    "while CONDITION: \n",
    "try: \n",
    "except EXCEPTION as e:\n",
    "    \n",
    "All above constructs don’t “evaluate” to anything. They are syntactic elements that serve a purpose,\n",
    "but do not themselves have any intrinsic “value”"
   ]
  },
  {
   "cell_type": "markdown",
   "metadata": {},
   "source": [
    "6.After running the following code, what does the variable bacon contain?\n",
    "\n",
    "bacon = 22\n",
    "\n",
    "bacon + 1\n"
   ]
  },
  {
   "cell_type": "code",
   "execution_count": 18,
   "metadata": {},
   "outputs": [
    {
     "name": "stdout",
     "output_type": "stream",
     "text": [
      "23\n"
     ]
    }
   ],
   "source": [
    "#Answer 6.\n",
    "\n",
    "bacon = 22\n",
    "print(bacon +1)   ### 23"
   ]
  },
  {
   "cell_type": "markdown",
   "metadata": {},
   "source": [
    "7.What should the values of the following two terms be?\n",
    "\n",
    "'spam' + 'spamspam'\n",
    "\n",
    "'spam' * 3\n"
   ]
  },
  {
   "cell_type": "code",
   "execution_count": 19,
   "metadata": {},
   "outputs": [
    {
     "name": "stdout",
     "output_type": "stream",
     "text": [
      "spamspamspam spamspamspam\n"
     ]
    }
   ],
   "source": [
    "# Answer 7. \n",
    "\n",
    "print('spam' + 'spamspam','spam' * 3) ### Its same"
   ]
  },
  {
   "cell_type": "markdown",
   "metadata": {},
   "source": [
    "8. Why is eggs a valid variable name while 100 is invalid?"
   ]
  },
  {
   "cell_type": "code",
   "execution_count": null,
   "metadata": {},
   "outputs": [],
   "source": [
    "# Answer 8.\n",
    "\n",
    "As per the naming convention in any programing language variable name can only start with character it can't start with \n",
    "an integer. Due to that 100 as a variable name is invalid and eggs is valid."
   ]
  },
  {
   "cell_type": "markdown",
   "metadata": {},
   "source": [
    "9. What three functions can be used to get the integer, floating-point number, or string version of a value?"
   ]
  },
  {
   "cell_type": "code",
   "execution_count": null,
   "metadata": {},
   "outputs": [],
   "source": [
    "# Answer 9.\n",
    "\n",
    "int() , float() , str()"
   ]
  },
  {
   "cell_type": "markdown",
   "metadata": {},
   "source": [
    "10. Why does this expression cause an error? How can you fix it?\n",
    "\n",
    "'I have eaten ' + 99 + ' burritos.'"
   ]
  },
  {
   "cell_type": "code",
   "execution_count": 24,
   "metadata": {},
   "outputs": [
    {
     "data": {
      "text/plain": [
       "'I have eaten 99 burritos.'"
      ]
     },
     "execution_count": 24,
     "metadata": {},
     "output_type": "execute_result"
    }
   ],
   "source": [
    "#Answer 10.\n",
    "#There is an int value in this expression and concatenation of str and int can not happen.\n",
    "#Solution:- Int value needs to be enclosed in single quotes or can type cast using str() function\n",
    "'I have eaten ' + str(99) + ' burritos.'"
   ]
  },
  {
   "cell_type": "code",
   "execution_count": null,
   "metadata": {},
   "outputs": [],
   "source": []
  }
 ],
 "metadata": {
  "kernelspec": {
   "display_name": "Python 3",
   "language": "python",
   "name": "python3"
  },
  "language_info": {
   "codemirror_mode": {
    "name": "ipython",
    "version": 3
   },
   "file_extension": ".py",
   "mimetype": "text/x-python",
   "name": "python",
   "nbconvert_exporter": "python",
   "pygments_lexer": "ipython3",
   "version": "3.7.6"
  }
 },
 "nbformat": 4,
 "nbformat_minor": 4
}
