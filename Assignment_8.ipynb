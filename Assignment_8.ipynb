{
 "cells": [
  {
   "cell_type": "markdown",
   "metadata": {},
   "source": [
    "1. Is the Python Standard Library included with PyInputPlus?"
   ]
  },
  {
   "cell_type": "raw",
   "metadata": {},
   "source": [
    "No we have to externally install it using,\n",
    "!pip install PyInputPlus"
   ]
  },
  {
   "cell_type": "markdown",
   "metadata": {},
   "source": [
    "2. Why is PyInputPlus commonly imported with import pyinputplus as pypi?"
   ]
  },
  {
   "cell_type": "raw",
   "metadata": {},
   "source": [
    "Inside Library PyInputPlus there is a package called \"pyinputplus\".\n",
    "Using \"import pyinputplus as pypi\" we import package pyinputplus and here pypi is the alias we gave"
   ]
  },
  {
   "cell_type": "markdown",
   "metadata": {},
   "source": [
    "3. How do you distinguish between inputInt() and inputFloat()?"
   ]
  },
  {
   "cell_type": "raw",
   "metadata": {},
   "source": [
    "inputInt() : Accepts an integer value. This also takes additional parameters ‘min’, ‘max’, ‘greaterThan’ and ‘lessThan’  for bounds. Returns an int.\n",
    "\n",
    "inputFloat() : Accepts a floating-point numeric value. Also takes additional ‘min’, ‘max’, ‘greaterThan’ and ‘lessThan’  parameters. Returns a float."
   ]
  },
  {
   "cell_type": "code",
   "execution_count": 8,
   "metadata": {},
   "outputs": [
    {
     "name": "stdout",
     "output_type": "stream",
     "text": [
      "Enter an Integer... 3\n",
      "Number must be less than 3.\n",
      "Enter an Integer... 4\n",
      "Number must be less than 3.\n",
      "Enter an Integer... 5\n",
      "Number must be less than 3.\n",
      "Enter an Integer... 2\n",
      "2\n"
     ]
    }
   ],
   "source": [
    "# Eg:-\n",
    "\n",
    "import pyinputplus as pyip\n",
    "  \n",
    "# integer input\n",
    "inp = pyip.inputInt(prompt = \"Enter an Integer... \", \n",
    "                    default = 0, lessThan = 3)\n",
    "  \n",
    "print(inp)"
   ]
  },
  {
   "cell_type": "code",
   "execution_count": 9,
   "metadata": {},
   "outputs": [
    {
     "name": "stdout",
     "output_type": "stream",
     "text": [
      "Enter a Floating Point Number... w\n",
      "'w' is not a float.\n",
      "Enter a Floating Point Number... r\n",
      "'r' is not a float.\n",
      "Enter a Floating Point Number... 3.0\n",
      "3.0\n"
     ]
    }
   ],
   "source": [
    "# flating point input\n",
    "fnp = pyip.inputFloat(prompt = \"Enter a Floating Point Number... \", \n",
    "                    default = 0, lessThan = 10)\n",
    "  \n",
    "print(fnp)"
   ]
  },
  {
   "cell_type": "markdown",
   "metadata": {},
   "source": [
    "4. Using PyInputPlus, how do you ensure that the user enters a whole number between 0 and 99?"
   ]
  },
  {
   "cell_type": "code",
   "execution_count": 12,
   "metadata": {},
   "outputs": [
    {
     "name": "stdout",
     "output_type": "stream",
     "text": [
      "Enter Number b/w 0 to 99... -9\n",
      "Number must be at minimum 0.\n",
      "Enter Number b/w 0 to 99... w\n",
      "'w' is not an integer.\n",
      "Enter Number b/w 0 to 99... 100\n",
      "Number must be at maximum 99.\n",
      "Enter Number b/w 0 to 99... 89\n",
      "89\n"
     ]
    }
   ],
   "source": [
    "a = pyip.inputInt(prompt = \"Enter Number b/w 0 to 99... \", \n",
    "                    default = 0, min = 0,max = 99)\n",
    "  \n",
    "print(a)"
   ]
  },
  {
   "cell_type": "markdown",
   "metadata": {},
   "source": [
    "5. What is transferred to the keyword arguments allowRegexes and blockRegexes?"
   ]
  },
  {
   "cell_type": "raw",
   "metadata": {},
   "source": [
    "blockRegexes help us to block special as an input from user. Let's say if we dont want user to provide any input we can block it using blockRegexes option.\n",
    "On the other hand,\n",
    "allowRegexes provide options to allow acceptance input that we want."
   ]
  },
  {
   "cell_type": "code",
   "execution_count": null,
   "metadata": {},
   "outputs": [
    {
     "name": "stdout",
     "output_type": "stream",
     "text": [
      "Enter String... 90\n",
      "This response is invalid.\n",
      "Enter String... "
     ]
    }
   ],
   "source": [
    "#Eg:-\n",
    "Str = pyip.inputStr(prompt = \"Enter String... \", \n",
    "                    default = None, limit = 3,blockRegexes=[r'.*'])\n",
    "  \n",
    "print(Str)"
   ]
  },
  {
   "cell_type": "markdown",
   "metadata": {},
   "source": [
    "6. If a blank input is entered three times, what does inputStr(limit=3) do?"
   ]
  },
  {
   "cell_type": "raw",
   "metadata": {},
   "source": [
    "If a blank input is entered three times,inputStr(limit=3) will provide 3 chances to the user to enter string. After 3 chances it will throw a RetryLimitException "
   ]
  },
  {
   "cell_type": "code",
   "execution_count": 4,
   "metadata": {},
   "outputs": [
    {
     "name": "stdout",
     "output_type": "stream",
     "text": [
      "Enter String... w\n",
      "w\n"
     ]
    }
   ],
   "source": [
    "#Eg:-\n",
    "Str = pyip.inputStr(prompt = \"Enter String... \", \n",
    "                    default = None, limit = 3)\n",
    "  \n",
    "print(Str)"
   ]
  },
  {
   "cell_type": "markdown",
   "metadata": {},
   "source": [
    "7. If blank input is entered three times, what does inputStr(limit=3, default='hello') do?"
   ]
  },
  {
   "cell_type": "raw",
   "metadata": {},
   "source": [
    "After not providing any input for continuously 3 times it will print default value as \"hello\""
   ]
  },
  {
   "cell_type": "code",
   "execution_count": 7,
   "metadata": {},
   "outputs": [
    {
     "name": "stdout",
     "output_type": "stream",
     "text": [
      "Enter String... \n",
      "Blank values are not allowed.\n",
      "Enter String... \n",
      "Blank values are not allowed.\n",
      "Enter String... \n",
      "Blank values are not allowed.\n",
      "hello\n"
     ]
    }
   ],
   "source": [
    "#Eg:-\n",
    "Str = pyip.inputStr(prompt = \"Enter String... \", \n",
    "                    default = 'hello', limit = 3)\n",
    "  \n",
    "print(Str)"
   ]
  },
  {
   "cell_type": "code",
   "execution_count": null,
   "metadata": {},
   "outputs": [],
   "source": []
  }
 ],
 "metadata": {
  "kernelspec": {
   "display_name": "Python 3",
   "language": "python",
   "name": "python3"
  },
  "language_info": {
   "codemirror_mode": {
    "name": "ipython",
    "version": 3
   },
   "file_extension": ".py",
   "mimetype": "text/x-python",
   "name": "python",
   "nbconvert_exporter": "python",
   "pygments_lexer": "ipython3",
   "version": "3.7.6"
  }
 },
 "nbformat": 4,
 "nbformat_minor": 4
}
